{
 "cells": [
  {
   "cell_type": "markdown",
   "metadata": {},
   "source": [
    "# Import Packages"
   ]
  },
  {
   "cell_type": "code",
   "execution_count": 3,
   "metadata": {},
   "outputs": [
    {
     "name": "stderr",
     "output_type": "stream",
     "text": [
      "Using TensorFlow backend.\n"
     ]
    }
   ],
   "source": [
    "from keras.models import load_model"
   ]
  },
  {
   "cell_type": "markdown",
   "metadata": {},
   "source": [
    "# Load Data"
   ]
  },
  {
   "cell_type": "code",
   "execution_count": 4,
   "metadata": {},
   "outputs": [],
   "source": [
    "def load_data(path='cube_dataset.npz'):\n",
    "    f = np.load(path)\n",
    "    x_train, y_train, x_test, y_test = f['X_train'], f['y_train'], f['X_test'], f['y_test']\n",
    "    f.close()\n",
    "    return (x_train, y_train, x_test, y_test)"
   ]
  },
  {
   "cell_type": "markdown",
   "metadata": {},
   "source": [
    "# Batch Generator"
   ]
  },
  {
   "cell_type": "code",
   "execution_count": 5,
   "metadata": {},
   "outputs": [],
   "source": [
    "def batch_generator(X_train, y_train, batch_size):\n",
    "    while True:\n",
    "        idx = np.random.randint(0, X_train.shape[0], batch_size)\n",
    "        X = X_train[idx]\n",
    "        y = y_train[idx]\n",
    "        yield (X,y)"
   ]
  },
  {
   "cell_type": "markdown",
   "metadata": {},
   "source": [
    "# Experiments:"
   ]
  },
  {
   "cell_type": "markdown",
   "metadata": {},
   "source": [
    "### INPUT_SHAPE = (18,3,1), 1 Conv2D and 4 Dense layers, not convert colors into one-hot encoding"
   ]
  },
  {
   "cell_type": "code",
   "execution_count": 4,
   "metadata": {
    "scrolled": true
   },
   "outputs": [
    {
     "name": "stdout",
     "output_type": "stream",
     "text": [
      "Input shape: (100000, 18, 3, 1)\n",
      "_________________________________________________________________\n",
      "Layer (type)                 Output Shape              Param #   \n",
      "=================================================================\n",
      "conv2d_2 (Conv2D)            (None, 16, 1, 512)        5120      \n",
      "_________________________________________________________________\n",
      "dense_5 (Dense)              (None, 16, 1, 1024)       525312    \n",
      "_________________________________________________________________\n",
      "dense_6 (Dense)              (None, 16, 1, 512)        524800    \n",
      "_________________________________________________________________\n",
      "dropout_2 (Dropout)          (None, 16, 1, 512)        0         \n",
      "_________________________________________________________________\n",
      "dense_7 (Dense)              (None, 16, 1, 512)        262656    \n",
      "_________________________________________________________________\n",
      "flatten_2 (Flatten)          (None, 8192)              0         \n",
      "_________________________________________________________________\n",
      "dense_8 (Dense)              (None, 18)                147474    \n",
      "=================================================================\n",
      "Total params: 1,465,362\n",
      "Trainable params: 1,465,362\n",
      "Non-trainable params: 0\n",
      "_________________________________________________________________\n",
      "Test score: 1.75692431927\n",
      "Test accuracy: 0.490320003033\n"
     ]
    }
   ],
   "source": [
    "(X_train, y_train, X_test, y_test) = load_data('./dataset/ds_10000_10000_10_18_no_onehot.npz')\n",
    "print(\"Input shape:\", X_train.shape)\n",
    "\n",
    "model = load_model('./model/1Conv3dense_no_onehot_12000_32_18.h5')\n",
    "model.summary()\n",
    "score = model.evaluate_generator(batch_generator(X_test, y_test, 5000), steps=5, max_queue_size=10, workers=1, use_multiprocessing=False)\n",
    "print(\"Test score:\", score[0])\n",
    "print(\"Test accuracy:\", score[1])"
   ]
  },
  {
   "cell_type": "code",
   "execution_count": 5,
   "metadata": {},
   "outputs": [
    {
     "data": {
      "text/html": [
       "<div align=left><img style=\"float: left;\" src=\"./img/1Conv3dense_no_onehot_12000_32_18_acc.png\", width=490, height=600></div>\n",
       "<div align=right><img style=\"float: right;\" src=\"./img/1Conv3dense_no_onehot_12000_32_18_loss.png\", width=490, height=600></div>"
      ],
      "text/plain": [
       "<IPython.core.display.HTML object>"
      ]
     },
     "metadata": {},
     "output_type": "display_data"
    }
   ],
   "source": [
    "%%html\n",
    "<div align=left><img style=\"float: left;\" src=\"./img/1Conv3dense_no_onehot_12000_32_18_acc.png\", width=490, height=600></div>\n",
    "<div align=right><img style=\"float: right;\" src=\"./img/1Conv3dense_no_onehot_12000_32_18_loss.png\", width=490, height=600></div>"
   ]
  },
  {
   "cell_type": "markdown",
   "metadata": {},
   "source": [
    "### INPUT_SHAPE = (18,3,6), 1 Conv2D and 3 Dense layers, convert colors into one-hot encoding"
   ]
  },
  {
   "cell_type": "code",
   "execution_count": 6,
   "metadata": {},
   "outputs": [
    {
     "name": "stdout",
     "output_type": "stream",
     "text": [
      "Input shape: (100000, 18, 3, 6)\n",
      "_________________________________________________________________\n",
      "Layer (type)                 Output Shape              Param #   \n",
      "=================================================================\n",
      "conv2d_1 (Conv2D)            (None, 16, 1, 512)        28160     \n",
      "_________________________________________________________________\n",
      "dense_1 (Dense)              (None, 16, 1, 1024)       525312    \n",
      "_________________________________________________________________\n",
      "dense_2 (Dense)              (None, 16, 1, 512)        524800    \n",
      "_________________________________________________________________\n",
      "dropout_1 (Dropout)          (None, 16, 1, 512)        0         \n",
      "_________________________________________________________________\n",
      "dense_3 (Dense)              (None, 16, 1, 512)        262656    \n",
      "_________________________________________________________________\n",
      "flatten_1 (Flatten)          (None, 8192)              0         \n",
      "_________________________________________________________________\n",
      "dense_4 (Dense)              (None, 18)                147474    \n",
      "=================================================================\n",
      "Total params: 1,488,402\n",
      "Trainable params: 1,488,402\n",
      "Non-trainable params: 0\n",
      "_________________________________________________________________\n",
      "Test score: 1.66150145531\n",
      "Test accuracy: 0.529399991035\n"
     ]
    }
   ],
   "source": [
    "(X_train, y_train, X_test, y_test) = load_data('./dataset/ds_10000_10000_10_18.npz')\n",
    "print(\"Input shape:\", X_train.shape)\n",
    "\n",
    "model = load_model('./model/1Conv3dense_12000_32_18.h5')\n",
    "model.summary()\n",
    "score = model.evaluate_generator(batch_generator(X_test, y_test, 5000), steps=5, max_queue_size=10, workers=1, use_multiprocessing=False)\n",
    "print(\"Test score:\", score[0])\n",
    "print(\"Test accuracy:\", score[1])"
   ]
  },
  {
   "cell_type": "code",
   "execution_count": 7,
   "metadata": {},
   "outputs": [
    {
     "data": {
      "text/html": [
       "<div align=left><img style=\"float: left;\" src=\"./img/1Conv3dense_12000_32_18_acc.png\", width=490, height=600></div>\n",
       "<div align=right><img style=\"float: right;\" src=\"./img/1Conv3dense_12000_32_18_loss.png\", width=490, height=600></div>"
      ],
      "text/plain": [
       "<IPython.core.display.HTML object>"
      ]
     },
     "metadata": {},
     "output_type": "display_data"
    }
   ],
   "source": [
    "%%html\n",
    "<div align=left><img style=\"float: left;\" src=\"./img/1Conv3dense_12000_32_18_acc.png\", width=490, height=600></div>\n",
    "<div align=right><img style=\"float: right;\" src=\"./img/1Conv3dense_12000_32_18_loss.png\", width=490, height=600></div>"
   ]
  },
  {
   "cell_type": "markdown",
   "metadata": {},
   "source": [
    "### INPUT_SHAPE = (18,3,6), 1 Conv2D and 6 Dense layers, convert colors into one-hot encoding"
   ]
  },
  {
   "cell_type": "code",
   "execution_count": 8,
   "metadata": {},
   "outputs": [
    {
     "name": "stdout",
     "output_type": "stream",
     "text": [
      "Input shape: (100000, 18, 3, 6)\n",
      "_________________________________________________________________\n",
      "Layer (type)                 Output Shape              Param #   \n",
      "=================================================================\n",
      "conv2d_1 (Conv2D)            (None, 16, 1, 512)        28160     \n",
      "_________________________________________________________________\n",
      "dense_1 (Dense)              (None, 16, 1, 1024)       525312    \n",
      "_________________________________________________________________\n",
      "dense_2 (Dense)              (None, 16, 1, 512)        524800    \n",
      "_________________________________________________________________\n",
      "dense_3 (Dense)              (None, 16, 1, 512)        262656    \n",
      "_________________________________________________________________\n",
      "dense_4 (Dense)              (None, 16, 1, 512)        262656    \n",
      "_________________________________________________________________\n",
      "dropout_1 (Dropout)          (None, 16, 1, 512)        0         \n",
      "_________________________________________________________________\n",
      "dense_5 (Dense)              (None, 16, 1, 512)        262656    \n",
      "_________________________________________________________________\n",
      "flatten_1 (Flatten)          (None, 8192)              0         \n",
      "_________________________________________________________________\n",
      "dense_6 (Dense)              (None, 18)                147474    \n",
      "=================================================================\n",
      "Total params: 2,013,714\n",
      "Trainable params: 2,013,714\n",
      "Non-trainable params: 0\n",
      "_________________________________________________________________\n",
      "Test score: 1.7146979332\n",
      "Test accuracy: 0.50935999155\n"
     ]
    }
   ],
   "source": [
    "(X_train, y_train, X_test, y_test) = load_data('./dataset/ds_10000_10000_10_18.npz')\n",
    "print(\"Input shape:\", X_train.shape)\n",
    "\n",
    "model = load_model('./model/1Conv5dense_onehot_12000_32_18.h5')\n",
    "model.summary()\n",
    "score = model.evaluate_generator(batch_generator(X_test, y_test, 5000), steps=5, max_queue_size=10, workers=1, use_multiprocessing=False)\n",
    "print(\"Test score:\", score[0])\n",
    "print(\"Test accuracy:\", score[1])"
   ]
  },
  {
   "cell_type": "code",
   "execution_count": 9,
   "metadata": {},
   "outputs": [
    {
     "data": {
      "text/html": [
       "<div align=left><img style=\"float: left;\" src=\"./img/1Conv5dense_onehot_12000_32_18_acc.png\", width=490, height=600></div>\n",
       "<div align=right><img style=\"float: right;\" src=\"./img/1Conv5dense_onehot_12000_32_18_loss.png\", width=490, height=600></div>"
      ],
      "text/plain": [
       "<IPython.core.display.HTML object>"
      ]
     },
     "metadata": {},
     "output_type": "display_data"
    }
   ],
   "source": [
    "%%html\n",
    "<div align=left><img style=\"float: left;\" src=\"./img/1Conv5dense_onehot_12000_32_18_acc.png\", width=490, height=600></div>\n",
    "<div align=right><img style=\"float: right;\" src=\"./img/1Conv5dense_onehot_12000_32_18_loss.png\", width=490, height=600></div>"
   ]
  },
  {
   "cell_type": "markdown",
   "metadata": {},
   "source": [
    "### INPUT_SHAPE = (18,3,6), 1 Conv2D and 6 Dense layers, convert colors into one-hot encoding, add filters"
   ]
  },
  {
   "cell_type": "code",
   "execution_count": 10,
   "metadata": {},
   "outputs": [
    {
     "name": "stdout",
     "output_type": "stream",
     "text": [
      "Input shape: (100000, 18, 3, 6)\n",
      "_________________________________________________________________\n",
      "Layer (type)                 Output Shape              Param #   \n",
      "=================================================================\n",
      "conv2d_1 (Conv2D)            (None, 16, 1, 2048)       112640    \n",
      "_________________________________________________________________\n",
      "dense_1 (Dense)              (None, 16, 1, 1024)       2098176   \n",
      "_________________________________________________________________\n",
      "dense_2 (Dense)              (None, 16, 1, 512)        524800    \n",
      "_________________________________________________________________\n",
      "dense_3 (Dense)              (None, 16, 1, 512)        262656    \n",
      "_________________________________________________________________\n",
      "dense_4 (Dense)              (None, 16, 1, 512)        262656    \n",
      "_________________________________________________________________\n",
      "dropout_1 (Dropout)          (None, 16, 1, 512)        0         \n",
      "_________________________________________________________________\n",
      "dense_5 (Dense)              (None, 16, 1, 512)        262656    \n",
      "_________________________________________________________________\n",
      "flatten_1 (Flatten)          (None, 8192)              0         \n",
      "_________________________________________________________________\n",
      "dense_6 (Dense)              (None, 18)                147474    \n",
      "=================================================================\n",
      "Total params: 3,671,058\n",
      "Trainable params: 3,671,058\n",
      "Non-trainable params: 0\n",
      "_________________________________________________________________\n",
      "Test score: 1.70183348656\n",
      "Test accuracy: 0.520720005035\n"
     ]
    }
   ],
   "source": [
    "(X_train, y_train, X_test, y_test) = load_data('./dataset/ds_10000_10000_10_18.npz')\n",
    "print(\"Input shape:\", X_train.shape)\n",
    "\n",
    "model = load_model('./model/2048Conv5dense_onehot_12000_32_18.h5')\n",
    "model.summary()\n",
    "score = model.evaluate_generator(batch_generator(X_test, y_test, 5000), steps=5, max_queue_size=10, workers=1, use_multiprocessing=False)\n",
    "print(\"Test score:\", score[0])\n",
    "print(\"Test accuracy:\", score[1])"
   ]
  },
  {
   "cell_type": "code",
   "execution_count": 11,
   "metadata": {},
   "outputs": [
    {
     "data": {
      "text/html": [
       "<div align=left><img style=\"float: left;\" src=\"./img/2048Conv5dense_onehot_12000_32_18_acc.png\", width=490, height=600></div>\n",
       "<div align=right><img style=\"float: right;\" src=\"./img/2048Conv5dense_onehot_12000_32_18_acc.png\", width=490, height=600></div>"
      ],
      "text/plain": [
       "<IPython.core.display.HTML object>"
      ]
     },
     "metadata": {},
     "output_type": "display_data"
    }
   ],
   "source": [
    "%%html\n",
    "<div align=left><img style=\"float: left;\" src=\"./img/2048Conv5dense_onehot_12000_32_18_acc.png\", width=490, height=600></div>\n",
    "<div align=right><img style=\"float: right;\" src=\"./img/2048Conv5dense_onehot_12000_32_18_acc.png\", width=490, height=600></div>"
   ]
  },
  {
   "cell_type": "markdown",
   "metadata": {},
   "source": [
    "### INPUT_SHAPE = (6,3,3,6), 2 Conv3D and 2 Dense layers, convert colors into one-hot encoding"
   ]
  },
  {
   "cell_type": "code",
   "execution_count": 12,
   "metadata": {},
   "outputs": [
    {
     "name": "stdout",
     "output_type": "stream",
     "text": [
      "Input shape: (100000, 6, 3, 3, 6)\n",
      "_________________________________________________________________\n",
      "Layer (type)                 Output Shape              Param #   \n",
      "=================================================================\n",
      "conv3d_1 (Conv3D)            (None, 5, 2, 2, 256)      12544     \n",
      "_________________________________________________________________\n",
      "conv3d_2 (Conv3D)            (None, 4, 1, 2, 512)      524800    \n",
      "_________________________________________________________________\n",
      "dropout_1 (Dropout)          (None, 4, 1, 2, 512)      0         \n",
      "_________________________________________________________________\n",
      "flatten_1 (Flatten)          (None, 4096)              0         \n",
      "_________________________________________________________________\n",
      "dense_1 (Dense)              (None, 512)               2097664   \n",
      "_________________________________________________________________\n",
      "dropout_2 (Dropout)          (None, 512)               0         \n",
      "_________________________________________________________________\n",
      "dense_2 (Dense)              (None, 18)                9234      \n",
      "=================================================================\n",
      "Total params: 2,644,242\n",
      "Trainable params: 2,644,242\n",
      "Non-trainable params: 0\n",
      "_________________________________________________________________\n",
      "Test score: 1.59777553082\n",
      "Test accuracy: 0.544920003414\n"
     ]
    }
   ],
   "source": [
    "(X_train, y_train, X_test, y_test) = load_data('./dataset/ds_10000_10000_10.npz')\n",
    "print(\"Input shape:\", X_train.shape)\n",
    "\n",
    "model = load_model('./model/conv3D_6000_32.h5')\n",
    "model.summary()\n",
    "score = model.evaluate_generator(batch_generator(X_test, y_test, 5000), steps=5, max_queue_size=10, workers=1, use_multiprocessing=False)\n",
    "print(\"Test score:\", score[0])\n",
    "print(\"Test accuracy:\", score[1])"
   ]
  },
  {
   "cell_type": "code",
   "execution_count": 13,
   "metadata": {},
   "outputs": [
    {
     "data": {
      "text/html": [
       "<div align=left><img style=\"float: left;\" src=\"./img/logs_conv3D_6000_32_acc.png\", width=490, height=600></div>\n",
       "<div align=right><img style=\"float: right;\" src=\"./img/logs_conv3D_6000_32_acc.png\", width=490, height=600></div>"
      ],
      "text/plain": [
       "<IPython.core.display.HTML object>"
      ]
     },
     "metadata": {},
     "output_type": "display_data"
    }
   ],
   "source": [
    "%%html\n",
    "<div align=left><img style=\"float: left;\" src=\"./img/logs_conv3D_6000_32_acc.png\", width=490, height=600></div>\n",
    "<div align=right><img style=\"float: right;\" src=\"./img/logs_conv3D_6000_32_acc.png\", width=490, height=600></div>"
   ]
  },
  {
   "cell_type": "markdown",
   "metadata": {},
   "source": [
    "### INPUT_SHAPE = (6,3,3,6), 1 Conv2D and 4 Dense layers, convert colors into one-hot encoding, data augmentation"
   ]
  },
  {
   "cell_type": "code",
   "execution_count": 6,
   "metadata": {},
   "outputs": [
    {
     "name": "stdout",
     "output_type": "stream",
     "text": [
      "Input shape: (720000, 18, 3, 6)\n",
      "_________________________________________________________________\n",
      "Layer (type)                 Output Shape              Param #   \n",
      "=================================================================\n",
      "conv2d_5 (Conv2D)            (None, 16, 1, 512)        28160     \n",
      "_________________________________________________________________\n",
      "dense_48 (Dense)             (None, 16, 1, 1024)       525312    \n",
      "_________________________________________________________________\n",
      "dense_49 (Dense)             (None, 16, 1, 512)        524800    \n",
      "_________________________________________________________________\n",
      "dropout_14 (Dropout)         (None, 16, 1, 512)        0         \n",
      "_________________________________________________________________\n",
      "dense_50 (Dense)             (None, 16, 1, 512)        262656    \n",
      "_________________________________________________________________\n",
      "flatten_10 (Flatten)         (None, 8192)              0         \n",
      "_________________________________________________________________\n",
      "dense_51 (Dense)             (None, 18)                147474    \n",
      "=================================================================\n",
      "Total params: 1,488,402\n",
      "Trainable params: 1,488,402\n",
      "Non-trainable params: 0\n",
      "_________________________________________________________________\n",
      "Test score: 5.35508394241\n",
      "Test accuracy: 0.279880005121\n"
     ]
    }
   ],
   "source": [
    "(X_train, y_train, X_test, y_test) = load_data('./dataset/ds_100x720_100x720_10_18aug.npz')\n",
    "print(\"Input shape:\", X_train.shape)\n",
    "\n",
    "model = load_model('./model/1Conv3dense_12000_32_18aug.h5')\n",
    "model.summary()\n",
    "score = model.evaluate_generator(batch_generator(X_test, y_test, 5000), steps=5, max_queue_size=10, workers=1, use_multiprocessing=False)\n",
    "print(\"Test score:\", score[0])\n",
    "print(\"Test accuracy:\", score[1])"
   ]
  },
  {
   "cell_type": "code",
   "execution_count": 7,
   "metadata": {},
   "outputs": [
    {
     "data": {
      "text/html": [
       "<div align=left><img style=\"float: left;\" src=\"./img/1Conv3dense_12000_32_18aug_acc.png\", width=490, height=600></div>\n",
       "<div align=right><img style=\"float: right;\" src=\"./img/1Conv3dense_12000_32_18aug_loss.png\", width=490, height=600></div>"
      ],
      "text/plain": [
       "<IPython.core.display.HTML object>"
      ]
     },
     "metadata": {},
     "output_type": "display_data"
    }
   ],
   "source": [
    "%%html\n",
    "<div align=left><img style=\"float: left;\" src=\"./img/1Conv3dense_12000_32_18aug_acc.png\", width=490, height=600></div>\n",
    "<div align=right><img style=\"float: right;\" src=\"./img/1Conv3dense_12000_32_18aug_loss.png\", width=490, height=600></div>"
   ]
  },
  {
   "cell_type": "markdown",
   "metadata": {},
   "source": [
    "### INPUT_SHAPE = (6,3,3,6), 2 Conv2D and 2 Dense layers, convert colors into one-hot encoding, data augmentation, only one percent dataset compared with before"
   ]
  },
  {
   "cell_type": "code",
   "execution_count": 8,
   "metadata": {},
   "outputs": [
    {
     "name": "stdout",
     "output_type": "stream",
     "text": [
      "Input shape: (720000, 18, 3, 6)\n",
      "_________________________________________________________________\n",
      "Layer (type)                 Output Shape              Param #   \n",
      "=================================================================\n",
      "conv2d_1 (Conv2D)            (None, 18, 3, 256)        14080     \n",
      "_________________________________________________________________\n",
      "conv2d_2 (Conv2D)            (None, 17, 2, 512)        524800    \n",
      "_________________________________________________________________\n",
      "dropout_1 (Dropout)          (None, 17, 2, 512)        0         \n",
      "_________________________________________________________________\n",
      "flatten_1 (Flatten)          (None, 17408)             0         \n",
      "_________________________________________________________________\n",
      "dense_1 (Dense)              (None, 512)               8913408   \n",
      "_________________________________________________________________\n",
      "dropout_2 (Dropout)          (None, 512)               0         \n",
      "_________________________________________________________________\n",
      "dense_2 (Dense)              (None, 18)                9234      \n",
      "=================================================================\n",
      "Total params: 9,461,522\n",
      "Trainable params: 9,461,522\n",
      "Non-trainable params: 0\n",
      "_________________________________________________________________\n",
      "Test score: 2.19352750778\n",
      "Test accuracy: 0.295719999075\n"
     ]
    }
   ],
   "source": [
    "(X_train, y_train, X_test, y_test) = load_data('./dataset/ds_100x720_100x720_10_18aug.npz')\n",
    "print(\"Input shape:\", X_train.shape)\n",
    "\n",
    "model = load_model('./model/conv2D_12000_32_18aug.h5')\n",
    "model.summary()\n",
    "score = model.evaluate_generator(batch_generator(X_test, y_test, 5000), steps=5, max_queue_size=10, workers=1, use_multiprocessing=False)\n",
    "print(\"Test score:\", score[0])\n",
    "print(\"Test accuracy:\", score[1])"
   ]
  },
  {
   "cell_type": "code",
   "execution_count": 9,
   "metadata": {},
   "outputs": [
    {
     "data": {
      "text/html": [
       "<div align=left><img style=\"float: left;\" src=\"./img/logs_conv2D_12000_32_18aug_acc.png\", width=490, height=600></div>\n",
       "<div align=right><img style=\"float: right;\" src=\"./img/logs_conv2D_12000_32_18aug_loss.png\", width=490, height=600></div>"
      ],
      "text/plain": [
       "<IPython.core.display.HTML object>"
      ]
     },
     "metadata": {},
     "output_type": "display_data"
    }
   ],
   "source": [
    "%%html\n",
    "<div align=left><img style=\"float: left;\" src=\"./img/logs_conv2D_12000_32_18aug_acc.png\", width=490, height=600></div>\n",
    "<div align=right><img style=\"float: right;\" src=\"./img/logs_conv2D_12000_32_18aug_loss.png\", width=490, height=600></div>"
   ]
  },
  {
   "cell_type": "code",
   "execution_count": null,
   "metadata": {},
   "outputs": [],
   "source": []
  }
 ],
 "metadata": {
  "kernelspec": {
   "display_name": "Python (ml)",
   "language": "python",
   "name": "ml"
  },
  "language_info": {
   "codemirror_mode": {
    "name": "ipython",
    "version": 3
   },
   "file_extension": ".py",
   "mimetype": "text/x-python",
   "name": "python",
   "nbconvert_exporter": "python",
   "pygments_lexer": "ipython3",
   "version": "3.6.5"
  }
 },
 "nbformat": 4,
 "nbformat_minor": 2
}
